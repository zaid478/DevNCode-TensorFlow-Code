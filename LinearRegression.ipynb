{
  "nbformat": 4,
  "nbformat_minor": 0,
  "metadata": {
    "colab": {
      "name": "LinearRegression",
      "version": "0.3.2",
      "views": {},
      "default_view": {},
      "provenance": [],
      "collapsed_sections": []
    }
  },
  "cells": [
    {
      "metadata": {
        "id": "sscbDhyqIaTG",
        "colab_type": "code",
        "colab": {
          "autoexec": {
            "startup": false,
            "wait_interval": 0
          }
        }
      },
      "source": [
        "# Importing All dependencies to be Used\n",
        "\n",
        "import tensorflow as tf\n",
        "import numpy as np\n",
        "import matplotlib.pyplot as plt"
      ],
      "cell_type": "code",
      "execution_count": 0,
      "outputs": []
    },
    {
      "metadata": {
        "id": "YKsjtj57Vj9k",
        "colab_type": "code",
        "colab": {
          "autoexec": {
            "startup": false,
            "wait_interval": 0
          }
        }
      },
      "source": [
        "# Training Data\n",
        "train_X = np.asarray([3.3,4.4,5.5,6.71,6.93,4.168,9.779,6.182,7.59,2.167,\n",
        "                         7.042,10.791,5.313,7.997,5.654,9.27,3.1])\n",
        "train_Y = np.asarray([1.7,2.76,2.09,3.19,1.694,1.573,3.366,2.596,2.53,1.221,\n",
        "                         2.827,3.465,1.65,2.904,2.42,2.94,1.3])\n",
        "n_samples = train_X.shape[0]\n",
        "rng=np.random"
      ],
      "cell_type": "code",
      "execution_count": 0,
      "outputs": []
    },
    {
      "metadata": {
        "id": "QdCRq5gqT5dz",
        "colab_type": "code",
        "colab": {
          "autoexec": {
            "startup": false,
            "wait_interval": 0
          }
        }
      },
      "source": [
        "# Building the Graph!\n",
        "\n",
        "\n",
        "# Declaring Tensorflow variables and placeholders for Linear regression Model\n",
        "# The equation of a line is : y=wx+b\n",
        "# We will declare two tensorflow variables (w and b) and two tensorflow placeholders (x and y)\n",
        "\n",
        "# tf Graph Input\n",
        "X = tf.placeholder(\"float\")\n",
        "Y = tf.placeholder(\"float\")\n",
        "\n",
        "# Set model weights\n",
        "W = tf.Variable(rng.randn(), name=\"weight\")\n",
        "b = tf.Variable(rng.randn(), name=\"bias\")"
      ],
      "cell_type": "code",
      "execution_count": 0,
      "outputs": []
    },
    {
      "metadata": {
        "id": "AE_-zrgYU6hb",
        "colab_type": "code",
        "colab": {
          "autoexec": {
            "startup": false,
            "wait_interval": 0
          }
        }
      },
      "source": [
        "# Defining the Equation of Line\n",
        "\n",
        "pred = tf.add(tf.multiply(X, W), b)  # Equivalent to : pred_y=wx+b\n",
        "\n",
        "# Defining the Loss ( Mean Squared Error )\n",
        "cost = tf.reduce_sum(tf.pow(pred-Y, 2))/(2*n_samples)\n",
        "\n",
        "# Defining the Optimizer\n",
        "optimizer = tf.train.GradientDescentOptimizer(0.01).minimize(cost)\n",
        "\n",
        "# Initializing all variables\n",
        "init=tf.global_variables_initializer()\n",
        "\n",
        "# End Defining the Graph! \n"
      ],
      "cell_type": "code",
      "execution_count": 0,
      "outputs": []
    },
    {
      "metadata": {
        "id": "3UEot9jCbFLv",
        "colab_type": "code",
        "colab": {
          "autoexec": {
            "startup": false,
            "wait_interval": 0
          }
        }
      },
      "source": [
        ""
      ],
      "cell_type": "code",
      "execution_count": 0,
      "outputs": []
    },
    {
      "metadata": {
        "id": "dbfiNsr_V83p",
        "colab_type": "code",
        "colab": {
          "autoexec": {
            "startup": false,
            "wait_interval": 0
          },
          "output_extras": [
            {
              "item_id": 15
            },
            {
              "item_id": 16
            }
          ],
          "base_uri": "https://localhost:8080/",
          "height": 738
        },
        "outputId": "3da547af-32cf-4924-8132-dce99e976c72",
        "executionInfo": {
          "status": "ok",
          "timestamp": 1512674797235,
          "user_tz": -300,
          "elapsed": 7184,
          "user": {
            "displayName": "Muhammad Zaid",
            "photoUrl": "https://lh3.googleusercontent.com/a/default-user=s128",
            "userId": "115872286551813329942"
          }
        }
      },
      "source": [
        "# Start training\n",
        "with tf.Session() as sess:\n",
        "    sess.run(init)\n",
        "\n",
        "    # Fit all training data\n",
        "    for epoch in range(1000):\n",
        "        for (x, y) in zip(train_X, train_Y):\n",
        "            sess.run(optimizer, feed_dict={X: x, Y: y})\n",
        "\n",
        "        #Display logs per epoch step\n",
        "        if (epoch+1) % 50 == 0:\n",
        "            c = sess.run(cost, feed_dict={X: train_X, Y:train_Y})\n",
        "            print \"Epoch:\", '%04d' % (epoch+1), \"cost=\", \"{:.9f}\".format(c), \\\n",
        "                \"W=\", sess.run(W), \"b=\", sess.run(b)\n",
        "\n",
        "    print \"Optimization Finished!\"\n",
        "    training_cost = sess.run(cost, feed_dict={X: train_X, Y: train_Y})\n",
        "    print \"Training cost=\", training_cost, \"W=\", sess.run(W), \"b=\", sess.run(b), '\\n'\n",
        "\n",
        "    #Graphic display\n",
        "    plt.plot(train_X, train_Y, 'ro', label='Original data')\n",
        "    plt.plot(train_X, sess.run(W) * train_X + sess.run(b), label='Fitted line')\n",
        "    plt.legend()\n",
        "    plt.show()"
      ],
      "cell_type": "code",
      "execution_count": 36,
      "outputs": [
        {
          "output_type": "stream",
          "text": [
            "Epoch: 0050 cost= 0.080245636 W= 0.281688 b= 0.570582\n",
            "Epoch: 0100 cost= 0.079867266 W= 0.279779 b= 0.584315\n",
            "Epoch: 0150 cost= 0.079532750 W= 0.277984 b= 0.597231\n",
            "Epoch: 0200 cost= 0.079236940 W= 0.276295 b= 0.60938\n",
            "Epoch: 0250 cost= 0.078975506 W= 0.274707 b= 0.620804\n",
            "Epoch: 0300 cost= 0.078744367 W= 0.273213 b= 0.631547\n",
            "Epoch: 0350 cost= 0.078540027 W= 0.271809 b= 0.641652\n",
            "Epoch: 0400 cost= 0.078359380 W= 0.270488 b= 0.651156\n",
            "Epoch: 0450 cost= 0.078199685 W= 0.269245 b= 0.660096\n",
            "Epoch: 0500 cost= 0.078058533 W= 0.268076 b= 0.668503\n",
            "Epoch: 0550 cost= 0.077933773 W= 0.266977 b= 0.676411\n",
            "Epoch: 0600 cost= 0.077823475 W= 0.265943 b= 0.683848\n",
            "Epoch: 0650 cost= 0.077726021 W= 0.264971 b= 0.690843\n",
            "Epoch: 0700 cost= 0.077639878 W= 0.264056 b= 0.697422\n",
            "Epoch: 0750 cost= 0.077563770 W= 0.263196 b= 0.70361\n",
            "Epoch: 0800 cost= 0.077496499 W= 0.262387 b= 0.70943\n",
            "Epoch: 0850 cost= 0.077437043 W= 0.261626 b= 0.714904\n",
            "Epoch: 0900 cost= 0.077384546 W= 0.260911 b= 0.720053\n",
            "Epoch: 0950 cost= 0.077338159 W= 0.260238 b= 0.724895\n",
            "Epoch: 1000 cost= 0.077297166 W= 0.259604 b= 0.729449\n",
            "Optimization Finished!\n",
            "Training cost= 0.0772972 W= 0.259604 b= 0.729449 \n",
            "\n"
          ],
          "name": "stdout"
        },
        {
          "output_type": "display_data",
          "data": {
            "image/png": "[encoded data removed]",
            "text/plain": [
              "<matplotlib.figure.Figure at 0x7fe5cc475210>"
            ]
          },
          "metadata": {
            "tags": []
          }
        }
      ]
    }
  ]
}